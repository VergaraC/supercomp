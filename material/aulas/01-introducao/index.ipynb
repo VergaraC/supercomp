{
  "cells": [
    {
      "cell_type": "markdown",
      "metadata": {
        "id": "view-in-github",
        "colab_type": "text"
      },
      "source": [
        "<a href=\"https://colab.research.google.com/github/VergaraC/supercomp/blob/master/material/aulas/01-introducao/index.ipynb\" target=\"_parent\"><img src=\"https://colab.research.google.com/assets/colab-badge.svg\" alt=\"Open In Colab\"/></a>"
      ]
    },
    {
      "cell_type": "markdown",
      "metadata": {
        "id": "4Bs20vPghnT7"
      },
      "source": [
        "# 01 - Introdução a SuperComputação\n",
        "\n",
        "Como vimos na expositiva, uma solução de alto desempenho depende de três partes:\n",
        "\n",
        "1. algoritmos eficientes\n",
        "2. implementações eficientes\n",
        "3. paralelismo\n",
        "\n",
        "Na atividade de hoje vamos estudar o primeiro ponto e quantificar o efeito de algoritmos eficientes na resolução de um problema complexo. \n",
        "\n",
        "## Problemas estudados em SuperComputação\n",
        "\n",
        "Em Desafios de Programação conhecemos a classe dos problemas NP-completo, que são aqueles que acreditamos não existir nenhum algoritmo determinístico que os resolvem em tempo polinomial. Ou seja, são problemas importantes cuja solução é difícil. Em geral temos classes de algoritmos para resolvê-los:\n",
        "\n",
        "1. ótimos globais: algoritmo que encontra a solução \"correta\" do problema. \n",
        "2. ótimos locais: algoritmo que encontra uma solução \"boa\" e que não pode ser melhorada por pequenas modificações. \n",
        "3. aproximação: algoritmos que garantem estar \"perto o suficiente\" da solução ótima. Este tipo de algoritmo não nos interessa em SuperComputação.\n",
        "\n",
        "Iremos analisar hoje 4 executáveis que resolvem o problema do [Caixeiro Viajante](https://en.wikipedia.org/wiki/Travelling_salesman_problem). \n",
        "\n",
        "1. `busca-local-1` - implementação de um método de busca rápida, porém não ótima.\n",
        "1. `busca-local-1-par` - implementação paralela do programa acima.\n",
        "2. `busca-local-2` - implementação alternativa do mesmo método acima. Os resultados de ambos são idênticos.\n",
        "2. `busca-local-2-par` - implementação paralela do programa acima.\n",
        "\n",
        "!!! important \n",
        "    Não estamos interessados no Caixeiro Viajante em si hoje. Queremos é comparar diferentes maneiras de resolvê-lo para entendermos o papel de técnicas de SuperComputação na velocidade de processamento e nos resultados obtidos. \n",
        "\n",
        "\n",
        "## Ferramental\n",
        "\n",
        "Realizar testes de maneira automatizada é muito importante para quantificar os efeitos de diferentes algoritmos e técnicas de paralelismo. O snippet abaixo executa "
      ]
    },
    {
      "cell_type": "code",
      "source": [
        "!chmod +x *busca-local-1\n",
        "!chmod +x *busca-local-1-par\n",
        "!chmod +x *busca-local-2\n",
        "!chmod +x *busca-local-2-par"
      ],
      "metadata": {
        "id": "xj1d5e3TlS6y"
      },
      "execution_count": 16,
      "outputs": []
    },
    {
      "cell_type": "code",
      "execution_count": 17,
      "metadata": {
        "tags": [
          "outputPrepend"
        ],
        "id": "2PE6ZSfchnUA",
        "outputId": "9d9876c9-5309-43fa-f49d-c2ccca74de57",
        "colab": {
          "base_uri": "https://localhost:8080/"
        }
      },
      "outputs": [
        {
          "output_type": "stream",
          "name": "stdout",
          "text": [
            "Saída: 232.234 0\n",
            "3 0 4 1 2 \n",
            "\n",
            "Stderr: \n",
            "Tempo total(s): 0.013542012000016257\n"
          ]
        }
      ],
      "source": [
        "import subprocess\n",
        "import time\n",
        "\n",
        "with open('entradas-busca-local/in-0.txt') as f:\n",
        "    start = time.perf_counter()\n",
        "    proc = subprocess.run(['./busca-local-1'], input=f.read(), text=True, capture_output=True)\n",
        "    end = time.perf_counter()\n",
        "\n",
        "    print('Saída:', proc.stdout)\n",
        "    print('Stderr:', proc.stderr)\n",
        "    print('Tempo total(s):', end - start)"
      ]
    },
    {
      "cell_type": "markdown",
      "metadata": {
        "id": "pnJnGKWLhnUB"
      },
      "source": [
        "Vamos agora praticar usar este snippet para executar nossos testes automaticamente. \n",
        "\n",
        "!!! example\n",
        "\n",
        "    Crie uma função `roda_com_entrada(executavel, arquivo_in)` que roda o primeiro argumento usando como entrada o conteúdo do segundo argumento. Teste seu código com o executável `busca-local-1` e com o arquivo de entrada `in-0.txt` usado no exemplo acima.\n",
        "\n",
        "    Sua função deverá devolver uma tupla `(stdout,time)` com `stdout` sendo a saída do programa e `time` seu tempo de execução em segundos. "
      ]
    },
    {
      "cell_type": "code",
      "execution_count": 18,
      "metadata": {
        "id": "2HmVtEQ7hnUC"
      },
      "outputs": [],
      "source": [
        "def roda_com_entrada(executavel, arquivo_in):\n",
        "  with open('entradas-busca-local/'+arquivo_in) as f:\n",
        "    start = time.perf_counter()\n",
        "    proc = subprocess.run(['./'+executavel], input=f.read(), text=True, capture_output=True)\n",
        "    end = time.perf_counter()\n",
        "\n",
        "    #print('Saída:', proc.stdout)\n",
        "    #print('Stderr:', proc.stderr)\n",
        "    #print('Tempo total(s):', end - start)\n",
        "  return((proc.stdout, end - start))"
      ]
    },
    {
      "cell_type": "markdown",
      "metadata": {
        "id": "IqkS3i6HhnUD"
      },
      "source": [
        "## Algoritmos sequenciais\n",
        "\n",
        "Com esse código, vamos criar um relatório interativo que roda nossos testes automaticamente e já plota informações prontas para nossas análises. Vamos começar examinando o desempenho do executável `busca-local-1`.\n",
        "\n",
        "!!! example\n",
        "\n",
        "    Rode o `busca-local` com os arquivos de entrada na pasta `entradas-busca-local`. Guarde os tempos em uma lista.\n",
        "\n",
        "!!! example\n",
        "\n",
        "    Leia o tamanho das entradas dos arquivos  na pasta `entradas-busca-local` e guarde em uma segunda lista.\n",
        "\n",
        "!!! example \n",
        "\n",
        "    Plote o tempo de execução pelo tamanho da entrada usando `matplotlib`"
      ]
    },
    {
      "cell_type": "code",
      "execution_count": 26,
      "metadata": {
        "id": "d2ggOSVPhnUE",
        "outputId": "7988386c-4f4c-4ea5-da6f-aa1c84da549d",
        "colab": {
          "base_uri": "https://localhost:8080/",
          "height": 296
        }
      },
      "outputs": [
        {
          "output_type": "execute_result",
          "data": {
            "text/plain": [
              "Text(0, 0.5, 'tempo(seg)')"
            ]
          },
          "metadata": {},
          "execution_count": 26
        },
        {
          "output_type": "display_data",
          "data": {
            "image/png": "[encoded data removed]",
            "text/plain": [
              "<Figure size 432x288 with 1 Axes>"
            ]
          },
          "metadata": {
            "needs_background": "light"
          }
        }
      ],
      "source": [
        "list_time_1= list()\n",
        "list_size_1 = list()\n",
        "for i in range(10):\n",
        "  result = roda_com_entrada(\"busca-local-1\",\"in-\" + str(i) + \".txt\")\n",
        "  list_time_1.append(result[1])\n",
        "  with open('entradas-busca-local/'+\"in-\" + str(i) + \".txt\") as f:\n",
        "    list_size_1.append(len(f.readlines())-1)\n",
        "import matplotlib.pyplot as plt\n",
        "\n",
        "plt.plot(list_size_1,list_time_1)\n",
        "plt.xlabel(\"n\")\n",
        "plt.ylabel(\"tempo(seg)\")"
      ]
    },
    {
      "cell_type": "markdown",
      "metadata": {
        "id": "DAaIVc7uhnUE"
      },
      "source": [
        "!!! example\n",
        "    Repita os três passos acima para o executável `busca-local-2`. Finalize plotando os tempos de execução de ambos os executáveis no mesmo gráfico."
      ]
    },
    {
      "cell_type": "code",
      "execution_count": 27,
      "metadata": {
        "id": "M_SmUvHJhnUF",
        "outputId": "6e8f97fe-fe6a-417c-ecd9-547138829b5d",
        "colab": {
          "base_uri": "https://localhost:8080/",
          "height": 296
        }
      },
      "outputs": [
        {
          "output_type": "execute_result",
          "data": {
            "text/plain": [
              "Text(0, 0.5, 'tempo(seg)')"
            ]
          },
          "metadata": {},
          "execution_count": 27
        },
        {
          "output_type": "display_data",
          "data": {
            "image/png": "[encoded data removed]",
            "text/plain": [
              "<Figure size 432x288 with 1 Axes>"
            ]
          },
          "metadata": {
            "needs_background": "light"
          }
        }
      ],
      "source": [
        "list_time_2= list()\n",
        "list_size_2 = list()\n",
        "for i in range(10):\n",
        "  result = roda_com_entrada(\"busca-local-2\",\"in-\" + str(i) + \".txt\")\n",
        "  list_time_2.append(result[1])\n",
        "  with open('entradas-busca-local/'+\"in-\" + str(i) + \".txt\") as f:\n",
        "    list_size_2.append(len(f.readlines())-1)\n",
        "\n",
        "plt.plot(list_size_1,list_time_1)\n",
        "plt.plot(list_size_2,list_time_2)\n",
        "plt.xlabel(\"n\")\n",
        "plt.ylabel(\"tempo(seg)\")"
      ]
    },
    {
      "source": [
        "!!! example\n",
        "    Segundo uma coleta de dados informal e altamente confiável, 93,17% dos alunos não colocam legendas nem títulos nos gráficos gerados. Faça isso agora. "
      ],
      "cell_type": "markdown",
      "metadata": {
        "id": "s9jMl6elhnUF"
      }
    },
    {
      "cell_type": "markdown",
      "metadata": {
        "id": "KJMF9xXjhnUG"
      },
      "source": [
        "!!! question medium\n",
        "\n",
        "    Interprete o gráfico que você gerou na linha de cima. \n",
        "\n",
        "!!! question medium\n",
        "    Compare manualmente a saída dos programas. Existe diferença em seus resultados?\n",
        "\n",
        "!!! question medium \n",
        "    Resgate seus conhecimentos de Desafios de Programação e explique a diferença entre os algoritmos.\n",
        "\n",
        "\n",
        "## Algoritmos paralelos\n",
        "\n",
        "Na discussão inicial da expositiva chegamos à conclusão de que se conseguimos realizar *N* operações em paralelo teremos um ganho de no máximo *N* vezes no desempenho de nosso programa. Nesta parte iremos estudar esta afirmação usando implementações paralelas dos algoritmos da seção anterior. \n",
        "\n",
        "!!! example\n",
        "    Execute os algoritmos paralelos com as mesmas entradas e compare com suas versões paralelas. Use um gráfico para facilitar as comparações"
      ]
    },
    {
      "cell_type": "code",
      "execution_count": 32,
      "metadata": {
        "id": "Rr5vJSkChnUG",
        "outputId": "113e6851-a398-41bd-d59f-3319f30fa457",
        "colab": {
          "base_uri": "https://localhost:8080/",
          "height": 386
        }
      },
      "outputs": [
        {
          "output_type": "stream",
          "name": "stdout",
          "text": [
            "[5, 10, 15, 20, 30, 40, 50, 60, 70, 80] [0.01408925099985936, 0.00952873999995063, 0.011557630999959656, 0.02408645700006673, 0.0970957089998592, 0.39112390699983735, 1.2855274540002029, 3.281564146999699, 7.80026332899979, 16.0701995229997]\n",
            "[5, 10, 15, 20, 30, 40, 50, 60, 70, 80] [0.011384419000023627, 0.009688808999726461, 0.010137150999980804, 0.015183987999989768, 0.040642122000008385, 0.11676219899982243, 0.2981544429999303, 0.601877899000101, 1.1507070259999637, 1.9539069249999557]\n",
            "[5, 10, 15, 20, 30, 40, 50, 60, 70, 80] [0.017328130999885616, 0.014501054999982443, 0.012629162999928667, 0.019144441000207735, 0.07554617899995719, 0.3022029520002434, 0.9815780379999524, 2.4317599660002998, 5.450390727999547, 11.923882836999837]\n",
            "[5, 10, 15, 20, 30, 40, 50, 60, 70, 80] [0.010289746000125888, 0.01014198699976987, 0.011710222000147041, 0.01640864999990299, 0.03950375099975645, 0.10964317700018, 0.2818502129994158, 0.5550868020000053, 1.0664967249995243, 1.84591307699975]\n"
          ]
        },
        {
          "output_type": "execute_result",
          "data": {
            "text/plain": [
              "<matplotlib.legend.Legend at 0x7f4cc993b9d0>"
            ]
          },
          "metadata": {},
          "execution_count": 32
        },
        {
          "output_type": "display_data",
          "data": {
            "image/png": "[encoded data removed]",
            "text/plain": [
              "<Figure size 432x288 with 1 Axes>"
            ]
          },
          "metadata": {
            "needs_background": "light"
          }
        }
      ],
      "source": [
        "list_time_1_par= list()\n",
        "list_size_1_par = list()\n",
        "for i in range(10):\n",
        "  result = roda_com_entrada(\"busca-local-1-par\",\"in-\" + str(i) + \".txt\")\n",
        "  list_time_1_par.append(result[1])\n",
        "  with open('entradas-busca-local/'+\"in-\" + str(i) + \".txt\") as f:\n",
        "    list_size_1_par.append(len(f.readlines())-1)\n",
        "\n",
        "list_time_2_par= list()\n",
        "list_size_2_par = list()\n",
        "for i in range(10):\n",
        "  result = roda_com_entrada(\"busca-local-2-par\",\"in-\" + str(i) + \".txt\")\n",
        "  list_time_2_par.append(result[1])\n",
        "  with open('entradas-busca-local/'+\"in-\" + str(i) + \".txt\") as f:\n",
        "    list_size_2_par.append(len(f.readlines())-1)\n",
        "\n",
        "plt.plot(list_size_1,list_time_1)\n",
        "plt.plot(list_size_2,list_time_2)\n",
        "plt.plot(list_size_1_par,list_time_1_par)\n",
        "plt.plot(list_size_2_par,list_time_2_par)\n",
        "\n",
        "print(list_size_1,list_time_1)\n",
        "print(list_size_2,list_time_2)\n",
        "print(list_size_1_par,list_time_1_par)\n",
        "print(list_size_2_par,list_time_2_par)\n",
        "plt.xlabel(\"n\")\n",
        "plt.ylabel(\"tempo(seg)\")\n",
        "plt.legend([\"1\",\"2\",\"1-par\", \"2-par\"])"
      ]
    },
    {
      "source": [
        "!!! question medium\n",
        "    Compare os tempos obtidos. Qual foi o ganho médio? Quantos *núcleos* a máquina que você está usando possui? Responda comparando cada algoritmo sequencial com sua versão paralela.\n",
        "\n",
        "Já estabelecemos que `busca-local-2` é melhor que `busca-local-1` por ser utilizar um algoritmo mais eficiente e vimos na prática a diferença entre um algoritmo $O(n^3)$ e um algoritmo $O(n^2)$. Vamos agora examinar a seguinte questão.\n",
        "\n",
        "!!! cite \"É possível usar paralelismo para tornar `busca-local-1-par` melhor que `busca-local-2`?\"\n",
        "\n",
        "!!! example\n",
        "    Compare o desempenho de `busca-local-1-par` com `busca-local-2`. Faça um gráfico"
      ],
      "cell_type": "markdown",
      "metadata": {
        "id": "hZIgdSWrhnUG"
      }
    },
    {
      "cell_type": "code",
      "execution_count": 20,
      "metadata": {
        "id": "1f20lFA3hnUH"
      },
      "outputs": [],
      "source": [
        ""
      ]
    },
    {
      "source": [
        "!!! question medium\n",
        "    Com base em seu gráfico acima, responda a pergunta: \"É possível usar paralelismo para tornar busca-local-1-par melhor que busca-local-2?\"\n",
        "\n",
        "Vamos agora generalizar a pergunta:\n",
        "\n",
        "!!! question medium\n",
        "    Dados dois algoritmos com complexidades computacionais diferentes, sendo que o primeiro é inferior ao segundo. É possível usar paralelismo para tornar o primeiro mais rápido que o segundo para todos tamanhos de entrada? Assuma que você possui um número fixo de *núcleos*. \n"
      ],
      "cell_type": "markdown",
      "metadata": {
        "id": "uIRI2MehhnUH"
      }
    }
  ],
  "metadata": {
    "kernelspec": {
      "display_name": "Python 3",
      "language": "python",
      "name": "python3"
    },
    "language_info": {
      "codemirror_mode": {
        "name": "ipython",
        "version": 3
      },
      "file_extension": ".py",
      "mimetype": "text/x-python",
      "name": "python",
      "nbconvert_exporter": "python",
      "pygments_lexer": "ipython3",
      "version": "3.8.0-final"
    },
    "colab": {
      "name": "index.ipynb",
      "provenance": [],
      "include_colab_link": true
    }
  },
  "nbformat": 4,
  "nbformat_minor": 0
}